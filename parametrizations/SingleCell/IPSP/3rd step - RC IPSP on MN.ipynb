{
 "cells": [
  {
   "cell_type": "markdown",
   "metadata": {},
   "source": [
    "# References\n",
    "## Van Keulen 1981\n",
    "* Recording obtained from a pair of connected RC and MN. RC excited through glutamate injection. Dorsal roots cut in the anaesthesized cat spinal cord. The measured mean IPSP was 12.7 $\\mu$V. Current is injected on Renshaw cell to evoke a single action potential to mimic the experimental settings.\n",
    "\n",
    "## Fyffe 1991\n",
    "* Intracellular staining of Renshaw cells synapses on alpha motoneurons were located on motoneuron dendrites.\n",
    "\n",
    "## Uchiyama et al. 2003a\n",
    "* Procedure to estimate IPSP resulted on 7, 14 and 26 $\\mu$V for motoneurons type FF, FR and S, respectivaly."
   ]
  },
  {
   "cell_type": "markdown",
   "metadata": {},
   "source": [
    "# Parameters adjusted\n",
    "* Renshaw cell conductances on each type of motoneuron. Values were hand tuned to achieve values reported by Uchiyama et al. 2003a."
   ]
  },
  {
   "cell_type": "markdown",
   "metadata": {},
   "source": [
    "# Considerations\n",
    "* The position of the Renshaw cell synapse on the motoneuron could not be altered on the fly, as for the other parameters. The changes were then made directly on the configuration file, changing the parameters related to the connectivity of the cells from 'soma' to 'dendrite'.\n",
    "* In the simulations, the columnar length must be large in order to avoid nearby neurons from the other pool to have a significant effect on the neuron in question, e.g. pools[0].unit[0] will only by significantly affected by pools[1].unit[0] due to topographic decay, and so on. To do this, the dec parameter in configuration file cannot be inf. A teste with SynapseFactoryRenshaw yielded the same results."
   ]
  },
  {
   "cell_type": "code",
   "execution_count": null,
   "metadata": {
    "collapsed": true
   },
   "outputs": [],
   "source": []
  }
 ],
 "metadata": {
  "kernelspec": {
   "display_name": "Python 2",
   "language": "python",
   "name": "python2"
  },
  "language_info": {
   "codemirror_mode": {
    "name": "ipython",
    "version": 2
   },
   "file_extension": ".py",
   "mimetype": "text/x-python",
   "name": "python",
   "nbconvert_exporter": "python",
   "pygments_lexer": "ipython2",
   "version": "2.7.15"
  }
 },
 "nbformat": 4,
 "nbformat_minor": 2
}
