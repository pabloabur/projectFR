{
 "cells": [
  {
   "cell_type": "markdown",
   "metadata": {},
   "source": [
    "# References\n",
    "## Hultborn and Pierrot-Deseilligny 1979\n",
    "* Afterhyperpolarization following a short (1 ms) instracellular pulse just at threshold for triggering a spike had an amplitude of 2 mV and a duration of about 30 ms.\n",
    "* frequency versus injected current curve. Spikes seem to start at very low current values, ca. 0,5 nA.\n",
    "\n",
    "## Fyffe 1990\n",
    "* Mean soma diameter of 27 $\\mu$m, regardless of shape, which can be fusiform or non-fusiform\n",
    "\n",
    "## Bui et al. 2003\n",
    "* The mean soma surface area and mean total dendritic surface area from 4 Renshaw cells were 1753,8 $\\mu\\text{m}^2$ 16756 $\\mu\\text{m}^2$, respectively."
   ]
  },
  {
   "cell_type": "markdown",
   "metadata": {},
   "source": [
    "# Parameters adjusted\n",
    "* Threshold. It is known to be small for Renshaw cells (Uchiyama et al. 2003a), but no quantitative values are available. In remoto, it is calculated as $$V_{th}=\\frac{I_{rh}R_m}{\\pi dl}$$ Therefore, morphology data and rheobase are adjusted, as listed below, and to obtain a threshold of 18.9089 mV, which is greater than the EPSPs peaks observed by Walsley and Tracey (1981).\n",
    "* Mean soma diameter (Fyffe 1990).\n",
    "* Mean soma length, calculated from mean soma diameter (Fyffe 1990) and mean soma+dendritic surface area (Bui et al. 2003). Calculations using $a=\\pi dl$ results in $l=218.2168$.\n",
    "* Rheobase current, according to the FxI curve (Hultborn and Pierrot-Deseilligy, 1979). The value adopted is 0.5 nA, the same as in ReMoto online software (Cisi and Kohn, 2008).\n",
    "* Specific resistivity, from previous parametrization.\n",
    "* Conductances, according to 4th step."
   ]
  },
  {
   "cell_type": "markdown",
   "metadata": {},
   "source": [
    "# Considerations\n",
    "* Spontaneous activity is not important here, so it was turned off in order to avoid other action potentials.\n",
    "* In the FxI curve described in Hultborn and Pierrot-Deseilligny (1979), it is not clear if the duration of the pulse is short or long. However, in either case, the rheobase will be close to zero.\n",
    "* The duration of the AHP was considered to be finished after 10% of the AHP peak value, approximately.\n",
    "* The resulting input resistance is $R_i=\\frac{R_m}{a}=37.8178\\text{ M}\\Omega$. As expected, this is greater than the input resistance of the smallest motoneuron.\n",
    "* Conductances values were taken from the results of 4th step. AHP and FxI curve are complementary, so an alteration in one would frequently cause a difference in the other, and vice-versa."
   ]
  },
  {
   "cell_type": "code",
   "execution_count": null,
   "metadata": {
    "collapsed": true
   },
   "outputs": [],
   "source": []
  }
 ],
 "metadata": {
  "kernelspec": {
   "display_name": "Python 2",
   "language": "python",
   "name": "python2"
  },
  "language_info": {
   "codemirror_mode": {
    "name": "ipython",
    "version": 2
   },
   "file_extension": ".py",
   "mimetype": "text/x-python",
   "name": "python",
   "nbconvert_exporter": "python",
   "pygments_lexer": "ipython2",
   "version": "2.7.15"
  }
 },
 "nbformat": 4,
 "nbformat_minor": 2
}
