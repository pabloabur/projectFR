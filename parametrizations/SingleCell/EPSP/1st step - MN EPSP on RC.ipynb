{
 "cells": [
  {
   "cell_type": "markdown",
   "metadata": {},
   "source": [
    "# References\n",
    "## Walmsley and Tracey 1981\n",
    "* Ventral roor stimulation and intracellular recording from Renshaw cells revealed EPSPs.\n",
    "\n",
    "## Williams and Baker 2009\n",
    "* From previous paper, the authors adopted 7.6 ms rise time and 50 ms duration for each motoneuron synapse on a Renshaw cell."
   ]
  },
  {
   "cell_type": "markdown",
   "metadata": {},
   "source": [
    "# Parameters adjusted\n",
    "* Specific resistance, hand tuned to achieve values referenced."
   ]
  },
  {
   "cell_type": "markdown",
   "metadata": {},
   "source": [
    "# Considerations\n",
    "* In this simulation, in order to mimic the experimental setting, current was injected on the soma of one motoneuron, which excited one Renshaw cell. However, ventral root is likely to excite more than one motoneuron, so peak values presented here are probably underestimated and are not parameterized (0.6 mV, as in Williams and Baker (2009)). In fact, this is also a matter of connectivity, since some motoneurons could be contributing to the observed peak of the EPSP. The rise time and duration, on the other hand, result from RC circuit characteristics, so adopting them for a EPSP evoked by a single motoneuron is a reasonable assumption.\n",
    "* Only type FF MNs are herein considered, since these are the first units activated by a small ventral root stimulation.\n",
    "* Size will not matter, since $\\tau=RC$.\n",
    "* If other values of resistance are needed, it is possible to keep this result by maintaining the proportion between resistance and capacitance.\n",
    "* The position of Renshaw cells synapses, presented in the 3rd step, are already implemented here because of implementation reasons.\n",
    "* Note that this parametrization is done to get a specific resistance, i.e. a passive property, to reproduce duration and rise time of a EPSP caused by a relatively bigger motoneuron. Walmsley and Tracey (1981) ignored results with action potentials and, in fact, it not clear when a Renshaw cell responds with a burst of action potentials or with only an EPSP. Distance also play a role on this, but it was also not considered by the authors. Therefore, this simulation tries to considers only cases with no action potential and leaves this connection strength for a latter simulation.\n",
    "* Three motoneuron types were used in order to provide FF type more distant than the others (because of what was explained in the last topic) and because using only one yields in unexpected results, e.g. elements out of range."
   ]
  },
  {
   "cell_type": "code",
   "execution_count": null,
   "metadata": {
    "collapsed": true
   },
   "outputs": [],
   "source": []
  }
 ],
 "metadata": {
  "kernelspec": {
   "display_name": "Python 2",
   "language": "python",
   "name": "python2"
  },
  "language_info": {
   "codemirror_mode": {
    "name": "ipython",
    "version": 2
   },
   "file_extension": ".py",
   "mimetype": "text/x-python",
   "name": "python",
   "nbconvert_exporter": "python",
   "pygments_lexer": "ipython2",
   "version": "2.7.15"
  }
 },
 "nbformat": 4,
 "nbformat_minor": 2
}
