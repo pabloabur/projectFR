{
 "cells": [
  {
   "cell_type": "markdown",
   "metadata": {},
   "source": [
    "# References\n",
    "## Hultborn and Pierrot-Deseilligny 1979\n",
    "* Intracellular recording from one RC impaled with microelectrodes and injected with depolirizing step currents of constant, but varied strength.\n",
    "* As seen in their Fig. 7, the pulse duration seem to be a bit less than 90 ms.\n",
    "* The steady state is measured 80 ms after the onset of stimulation."
   ]
  },
  {
   "cell_type": "markdown",
   "metadata": {},
   "source": [
    "# Parameters adjusted\n",
    "* $\\alpha_n$ and $\\beta_n$ were increased to make the dynamics of Kf fast. If it is fast enough, the channel would close before taking the membrane to zero. After that, Ks could be tuned to achieve the correct AHP and FxI characteristics.\n",
    "* $\\alpha_q$ and $\\beta_q$ to approach the correct firing rate and adaptation.\n",
    "* Kf and Ks conductances, in order to obtain an appropriate AHP."
   ]
  },
  {
   "cell_type": "markdown",
   "metadata": {},
   "source": [
    "# Considerations\n",
    "* After Kf and Ks were closed, the passive properties would take the membrane to resting membrane potential, and therefore influence AHP duration.\n",
    "* This parametrization had to be done in conjunction with the 2nd step.\n",
    "* In the current strategy, decreasing $\\alpha_q$ causes more adaptation, but changes AHP peak and duration. Adjusting Ks conductance and $\\beta_q$ in order to get back a proper AHP will make the adaptation obtained disappear.\n",
    "* The FxI curve was close to what is described in literature, but the adaptation period, which is known to be longer for higher currents, was always shorter."
   ]
  },
  {
   "cell_type": "code",
   "execution_count": null,
   "metadata": {
    "collapsed": true
   },
   "outputs": [],
   "source": []
  }
 ],
 "metadata": {
  "kernelspec": {
   "display_name": "Python 2",
   "language": "python",
   "name": "python2"
  },
  "language_info": {
   "codemirror_mode": {
    "name": "ipython",
    "version": 2
   },
   "file_extension": ".py",
   "mimetype": "text/x-python",
   "name": "python",
   "nbconvert_exporter": "python",
   "pygments_lexer": "ipython2",
   "version": "2.7.15"
  }
 },
 "nbformat": 4,
 "nbformat_minor": 2
}
